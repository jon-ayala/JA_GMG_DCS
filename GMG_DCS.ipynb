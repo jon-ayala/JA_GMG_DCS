{
 "cells": [
  {
   "cell_type": "markdown",
   "metadata": {},
   "source": [
    "## GMG Data Case Study"
   ]
  },
  {
   "cell_type": "markdown",
   "metadata": {},
   "source": [
    "Objective: The Marketing team wants to learn more about how users interact with food and recipe content. Provide three data backed recommendations and one suggestion on how you might uncover more on this audience, and how to capitalize on the content."
   ]
  },
  {
   "cell_type": "code",
   "execution_count": 1,
   "metadata": {},
   "outputs": [],
   "source": [
    "import pandas as pd\n",
    "import matplotlib\n",
    "from matplotlib import pyplot as plt\n",
    "import seaborn as sns\n",
    "import numpy as np"
   ]
  },
  {
   "cell_type": "code",
   "execution_count": 2,
   "metadata": {},
   "outputs": [],
   "source": [
    "# Loading Datasets"
   ]
  },
  {
   "cell_type": "code",
   "execution_count": 3,
   "metadata": {},
   "outputs": [],
   "source": [
    "pageviews = pd.read_csv('~/Documents/GMG_DataCaseStudy/case_study_pageviews.csv')\n",
    "subscribers = pd.read_csv('~/Documents/GMG_DataCaseStudy/case_study_subscribers.csv')"
   ]
  },
  {
   "cell_type": "code",
   "execution_count": 4,
   "metadata": {},
   "outputs": [],
   "source": [
    "# Exploratory Data Analysis"
   ]
  },
  {
   "cell_type": "code",
   "execution_count": 5,
   "metadata": {},
   "outputs": [
    {
     "data": {
      "text/html": [
       "<div>\n",
       "<style scoped>\n",
       "    .dataframe tbody tr th:only-of-type {\n",
       "        vertical-align: middle;\n",
       "    }\n",
       "\n",
       "    .dataframe tbody tr th {\n",
       "        vertical-align: top;\n",
       "    }\n",
       "\n",
       "    .dataframe thead th {\n",
       "        text-align: right;\n",
       "    }\n",
       "</style>\n",
       "<table border=\"1\" class=\"dataframe\">\n",
       "  <thead>\n",
       "    <tr style=\"text-align: right;\">\n",
       "      <th></th>\n",
       "      <th>user_id</th>\n",
       "      <th>access_time</th>\n",
       "      <th>page_path</th>\n",
       "      <th>page_title</th>\n",
       "      <th>campaign</th>\n",
       "      <th>page_referrer</th>\n",
       "      <th>article_publication_date</th>\n",
       "      <th>article_format</th>\n",
       "    </tr>\n",
       "  </thead>\n",
       "  <tbody>\n",
       "    <tr>\n",
       "      <th>0</th>\n",
       "      <td>2929017</td>\n",
       "      <td>9/1/20 0:00</td>\n",
       "      <td>/recipes/spicy-coconut-black-bean-soup</td>\n",
       "      <td>Quick and Easy Spicy Coconut Black Bean Soup R...</td>\n",
       "      <td>NaN</td>\n",
       "      <td>https://www.purewow.com/food/black-bean-recipes</td>\n",
       "      <td>1/31/20</td>\n",
       "      <td>Recipe</td>\n",
       "    </tr>\n",
       "    <tr>\n",
       "      <th>1</th>\n",
       "      <td>1406718</td>\n",
       "      <td>9/1/20 0:00</td>\n",
       "      <td>/food/best-vanilla-ice-cream</td>\n",
       "      <td>9 Best Vanilla Ice-Cream Brands, Ranked - PureWow</td>\n",
       "      <td>email</td>\n",
       "      <td>NaN</td>\n",
       "      <td>8/22/20</td>\n",
       "      <td>List</td>\n",
       "    </tr>\n",
       "    <tr>\n",
       "      <th>2</th>\n",
       "      <td>1341130</td>\n",
       "      <td>9/1/20 0:00</td>\n",
       "      <td>/food/lucky-charms-marshmallows-only-box</td>\n",
       "      <td>Lucky Charms Just Released Pouches of Marshmal...</td>\n",
       "      <td>NaN</td>\n",
       "      <td>https://www.purewow.com/food/best-vanilla-ice-...</td>\n",
       "      <td>8/26/20</td>\n",
       "      <td>Article</td>\n",
       "    </tr>\n",
       "  </tbody>\n",
       "</table>\n",
       "</div>"
      ],
      "text/plain": [
       "   user_id  access_time                                 page_path  \\\n",
       "0  2929017  9/1/20 0:00    /recipes/spicy-coconut-black-bean-soup   \n",
       "1  1406718  9/1/20 0:00              /food/best-vanilla-ice-cream   \n",
       "2  1341130  9/1/20 0:00  /food/lucky-charms-marshmallows-only-box   \n",
       "\n",
       "                                          page_title campaign  \\\n",
       "0  Quick and Easy Spicy Coconut Black Bean Soup R...      NaN   \n",
       "1  9 Best Vanilla Ice-Cream Brands, Ranked - PureWow    email   \n",
       "2  Lucky Charms Just Released Pouches of Marshmal...      NaN   \n",
       "\n",
       "                                       page_referrer article_publication_date  \\\n",
       "0    https://www.purewow.com/food/black-bean-recipes                  1/31/20   \n",
       "1                                                NaN                  8/22/20   \n",
       "2  https://www.purewow.com/food/best-vanilla-ice-...                  8/26/20   \n",
       "\n",
       "  article_format  \n",
       "0         Recipe  \n",
       "1           List  \n",
       "2        Article  "
      ]
     },
     "execution_count": 5,
     "metadata": {},
     "output_type": "execute_result"
    }
   ],
   "source": [
    "# One week worth of pageview activity to food and recipe content\n",
    "# campaign and page_referrer have the most null values\n",
    "pageviews.head(3)"
   ]
  },
  {
   "cell_type": "code",
   "execution_count": 6,
   "metadata": {},
   "outputs": [
    {
     "name": "stdout",
     "output_type": "stream",
     "text": [
      "<class 'pandas.core.frame.DataFrame'>\n",
      "RangeIndex: 132662 entries, 0 to 132661\n",
      "Data columns (total 8 columns):\n",
      " #   Column                    Non-Null Count   Dtype \n",
      "---  ------                    --------------   ----- \n",
      " 0   user_id                   132662 non-null  int64 \n",
      " 1   access_time               132662 non-null  object\n",
      " 2   page_path                 132662 non-null  object\n",
      " 3   page_title                132656 non-null  object\n",
      " 4   campaign                  80395 non-null   object\n",
      " 5   page_referrer             62868 non-null   object\n",
      " 6   article_publication_date  132086 non-null  object\n",
      " 7   article_format            132086 non-null  object\n",
      "dtypes: int64(1), object(7)\n",
      "memory usage: 8.1+ MB\n"
     ]
    }
   ],
   "source": [
    "pageviews.info()"
   ]
  },
  {
   "cell_type": "code",
   "execution_count": 7,
   "metadata": {},
   "outputs": [
    {
     "data": {
      "text/html": [
       "<div>\n",
       "<style scoped>\n",
       "    .dataframe tbody tr th:only-of-type {\n",
       "        vertical-align: middle;\n",
       "    }\n",
       "\n",
       "    .dataframe tbody tr th {\n",
       "        vertical-align: top;\n",
       "    }\n",
       "\n",
       "    .dataframe thead th {\n",
       "        text-align: right;\n",
       "    }\n",
       "</style>\n",
       "<table border=\"1\" class=\"dataframe\">\n",
       "  <thead>\n",
       "    <tr style=\"text-align: right;\">\n",
       "      <th></th>\n",
       "      <th>user_id</th>\n",
       "    </tr>\n",
       "  </thead>\n",
       "  <tbody>\n",
       "    <tr>\n",
       "      <th>count</th>\n",
       "      <td>1.326620e+05</td>\n",
       "    </tr>\n",
       "    <tr>\n",
       "      <th>mean</th>\n",
       "      <td>2.473535e+06</td>\n",
       "    </tr>\n",
       "    <tr>\n",
       "      <th>std</th>\n",
       "      <td>1.424790e+06</td>\n",
       "    </tr>\n",
       "    <tr>\n",
       "      <th>min</th>\n",
       "      <td>4.100000e+01</td>\n",
       "    </tr>\n",
       "    <tr>\n",
       "      <th>25%</th>\n",
       "      <td>1.247119e+06</td>\n",
       "    </tr>\n",
       "    <tr>\n",
       "      <th>50%</th>\n",
       "      <td>2.332374e+06</td>\n",
       "    </tr>\n",
       "    <tr>\n",
       "      <th>75%</th>\n",
       "      <td>3.618669e+06</td>\n",
       "    </tr>\n",
       "    <tr>\n",
       "      <th>max</th>\n",
       "      <td>4.940799e+06</td>\n",
       "    </tr>\n",
       "  </tbody>\n",
       "</table>\n",
       "</div>"
      ],
      "text/plain": [
       "            user_id\n",
       "count  1.326620e+05\n",
       "mean   2.473535e+06\n",
       "std    1.424790e+06\n",
       "min    4.100000e+01\n",
       "25%    1.247119e+06\n",
       "50%    2.332374e+06\n",
       "75%    3.618669e+06\n",
       "max    4.940799e+06"
      ]
     },
     "execution_count": 7,
     "metadata": {},
     "output_type": "execute_result"
    }
   ],
   "source": [
    "pageviews.describe()"
   ]
  },
  {
   "cell_type": "code",
   "execution_count": 8,
   "metadata": {},
   "outputs": [
    {
     "data": {
      "text/html": [
       "<div>\n",
       "<style scoped>\n",
       "    .dataframe tbody tr th:only-of-type {\n",
       "        vertical-align: middle;\n",
       "    }\n",
       "\n",
       "    .dataframe tbody tr th {\n",
       "        vertical-align: top;\n",
       "    }\n",
       "\n",
       "    .dataframe thead th {\n",
       "        text-align: right;\n",
       "    }\n",
       "</style>\n",
       "<table border=\"1\" class=\"dataframe\">\n",
       "  <thead>\n",
       "    <tr style=\"text-align: right;\">\n",
       "      <th></th>\n",
       "      <th>user_id</th>\n",
       "      <th>subscription_date</th>\n",
       "      <th>recipe_section_pageviews</th>\n",
       "      <th>food_section_pageviews</th>\n",
       "      <th>fashion_section_pageviews</th>\n",
       "      <th>beauty_section_pageviews</th>\n",
       "      <th>news_section_pageviews</th>\n",
       "    </tr>\n",
       "  </thead>\n",
       "  <tbody>\n",
       "    <tr>\n",
       "      <th>0</th>\n",
       "      <td>896748</td>\n",
       "      <td>2012-09-10 11:15:18.000000</td>\n",
       "      <td>1</td>\n",
       "      <td>0</td>\n",
       "      <td>0</td>\n",
       "      <td>0</td>\n",
       "      <td>0</td>\n",
       "    </tr>\n",
       "    <tr>\n",
       "      <th>1</th>\n",
       "      <td>887735</td>\n",
       "      <td>2012-09-07 00:51:12.000000</td>\n",
       "      <td>2</td>\n",
       "      <td>34</td>\n",
       "      <td>0</td>\n",
       "      <td>0</td>\n",
       "      <td>2</td>\n",
       "    </tr>\n",
       "    <tr>\n",
       "      <th>2</th>\n",
       "      <td>888222</td>\n",
       "      <td>2012-09-07 07:13:01.000000</td>\n",
       "      <td>1</td>\n",
       "      <td>0</td>\n",
       "      <td>0</td>\n",
       "      <td>0</td>\n",
       "      <td>0</td>\n",
       "    </tr>\n",
       "  </tbody>\n",
       "</table>\n",
       "</div>"
      ],
      "text/plain": [
       "   user_id           subscription_date  recipe_section_pageviews  \\\n",
       "0   896748  2012-09-10 11:15:18.000000                         1   \n",
       "1   887735  2012-09-07 00:51:12.000000                         2   \n",
       "2   888222  2012-09-07 07:13:01.000000                         1   \n",
       "\n",
       "   food_section_pageviews  fashion_section_pageviews  \\\n",
       "0                       0                          0   \n",
       "1                      34                          0   \n",
       "2                       0                          0   \n",
       "\n",
       "   beauty_section_pageviews  news_section_pageviews  \n",
       "0                         0                       0  \n",
       "1                         0                       2  \n",
       "2                         0                       0  "
      ]
     },
     "execution_count": 8,
     "metadata": {},
     "output_type": "execute_result"
    }
   ],
   "source": [
    "# User subscription data\n",
    "subscribers.head(3)"
   ]
  },
  {
   "cell_type": "code",
   "execution_count": 9,
   "metadata": {},
   "outputs": [
    {
     "name": "stdout",
     "output_type": "stream",
     "text": [
      "<class 'pandas.core.frame.DataFrame'>\n",
      "RangeIndex: 38264 entries, 0 to 38263\n",
      "Data columns (total 7 columns):\n",
      " #   Column                     Non-Null Count  Dtype \n",
      "---  ------                     --------------  ----- \n",
      " 0   user_id                    38264 non-null  int64 \n",
      " 1   subscription_date          38264 non-null  object\n",
      " 2   recipe_section_pageviews   38264 non-null  int64 \n",
      " 3   food_section_pageviews     38264 non-null  int64 \n",
      " 4   fashion_section_pageviews  38264 non-null  int64 \n",
      " 5   beauty_section_pageviews   38264 non-null  int64 \n",
      " 6   news_section_pageviews     38264 non-null  int64 \n",
      "dtypes: int64(6), object(1)\n",
      "memory usage: 2.0+ MB\n"
     ]
    }
   ],
   "source": [
    "subscribers.info()"
   ]
  },
  {
   "cell_type": "code",
   "execution_count": 10,
   "metadata": {},
   "outputs": [
    {
     "data": {
      "text/html": [
       "<div>\n",
       "<style scoped>\n",
       "    .dataframe tbody tr th:only-of-type {\n",
       "        vertical-align: middle;\n",
       "    }\n",
       "\n",
       "    .dataframe tbody tr th {\n",
       "        vertical-align: top;\n",
       "    }\n",
       "\n",
       "    .dataframe thead th {\n",
       "        text-align: right;\n",
       "    }\n",
       "</style>\n",
       "<table border=\"1\" class=\"dataframe\">\n",
       "  <thead>\n",
       "    <tr style=\"text-align: right;\">\n",
       "      <th></th>\n",
       "      <th>user_id</th>\n",
       "      <th>recipe_section_pageviews</th>\n",
       "      <th>food_section_pageviews</th>\n",
       "      <th>fashion_section_pageviews</th>\n",
       "      <th>beauty_section_pageviews</th>\n",
       "      <th>news_section_pageviews</th>\n",
       "    </tr>\n",
       "  </thead>\n",
       "  <tbody>\n",
       "    <tr>\n",
       "      <th>count</th>\n",
       "      <td>3.826400e+04</td>\n",
       "      <td>38264.000000</td>\n",
       "      <td>38264.000000</td>\n",
       "      <td>38264.000000</td>\n",
       "      <td>38264.000000</td>\n",
       "      <td>38264.000000</td>\n",
       "    </tr>\n",
       "    <tr>\n",
       "      <th>mean</th>\n",
       "      <td>2.393002e+06</td>\n",
       "      <td>1.504626</td>\n",
       "      <td>1.962367</td>\n",
       "      <td>0.833473</td>\n",
       "      <td>0.248249</td>\n",
       "      <td>2.115958</td>\n",
       "    </tr>\n",
       "    <tr>\n",
       "      <th>std</th>\n",
       "      <td>1.398152e+06</td>\n",
       "      <td>3.588135</td>\n",
       "      <td>4.044592</td>\n",
       "      <td>2.059924</td>\n",
       "      <td>1.085827</td>\n",
       "      <td>4.905208</td>\n",
       "    </tr>\n",
       "    <tr>\n",
       "      <th>min</th>\n",
       "      <td>4.100000e+01</td>\n",
       "      <td>0.000000</td>\n",
       "      <td>0.000000</td>\n",
       "      <td>0.000000</td>\n",
       "      <td>0.000000</td>\n",
       "      <td>0.000000</td>\n",
       "    </tr>\n",
       "    <tr>\n",
       "      <th>25%</th>\n",
       "      <td>1.197014e+06</td>\n",
       "      <td>0.000000</td>\n",
       "      <td>1.000000</td>\n",
       "      <td>0.000000</td>\n",
       "      <td>0.000000</td>\n",
       "      <td>0.000000</td>\n",
       "    </tr>\n",
       "    <tr>\n",
       "      <th>50%</th>\n",
       "      <td>2.246652e+06</td>\n",
       "      <td>1.000000</td>\n",
       "      <td>1.000000</td>\n",
       "      <td>0.000000</td>\n",
       "      <td>0.000000</td>\n",
       "      <td>0.000000</td>\n",
       "    </tr>\n",
       "    <tr>\n",
       "      <th>75%</th>\n",
       "      <td>3.468496e+06</td>\n",
       "      <td>2.000000</td>\n",
       "      <td>2.000000</td>\n",
       "      <td>1.000000</td>\n",
       "      <td>0.000000</td>\n",
       "      <td>2.000000</td>\n",
       "    </tr>\n",
       "    <tr>\n",
       "      <th>max</th>\n",
       "      <td>4.940799e+06</td>\n",
       "      <td>327.000000</td>\n",
       "      <td>257.000000</td>\n",
       "      <td>129.000000</td>\n",
       "      <td>60.000000</td>\n",
       "      <td>212.000000</td>\n",
       "    </tr>\n",
       "  </tbody>\n",
       "</table>\n",
       "</div>"
      ],
      "text/plain": [
       "            user_id  recipe_section_pageviews  food_section_pageviews  \\\n",
       "count  3.826400e+04              38264.000000            38264.000000   \n",
       "mean   2.393002e+06                  1.504626                1.962367   \n",
       "std    1.398152e+06                  3.588135                4.044592   \n",
       "min    4.100000e+01                  0.000000                0.000000   \n",
       "25%    1.197014e+06                  0.000000                1.000000   \n",
       "50%    2.246652e+06                  1.000000                1.000000   \n",
       "75%    3.468496e+06                  2.000000                2.000000   \n",
       "max    4.940799e+06                327.000000              257.000000   \n",
       "\n",
       "       fashion_section_pageviews  beauty_section_pageviews  \\\n",
       "count               38264.000000              38264.000000   \n",
       "mean                    0.833473                  0.248249   \n",
       "std                     2.059924                  1.085827   \n",
       "min                     0.000000                  0.000000   \n",
       "25%                     0.000000                  0.000000   \n",
       "50%                     0.000000                  0.000000   \n",
       "75%                     1.000000                  0.000000   \n",
       "max                   129.000000                 60.000000   \n",
       "\n",
       "       news_section_pageviews  \n",
       "count            38264.000000  \n",
       "mean                 2.115958  \n",
       "std                  4.905208  \n",
       "min                  0.000000  \n",
       "25%                  0.000000  \n",
       "50%                  0.000000  \n",
       "75%                  2.000000  \n",
       "max                212.000000  "
      ]
     },
     "execution_count": 10,
     "metadata": {},
     "output_type": "execute_result"
    }
   ],
   "source": [
    "subscribers.describe()"
   ]
  },
  {
   "cell_type": "markdown",
   "metadata": {},
   "source": [
    "How often are users visiting in one week?"
   ]
  },
  {
   "cell_type": "code",
   "execution_count": 11,
   "metadata": {},
   "outputs": [],
   "source": [
    "# Use pageviews\n",
    "# Total for the week, and breakdowns by the day\n",
    "# Some days have many views at different hours. Let's get a general look at views for a given day, before\n",
    "# looking at heavier traffic for the day. Note that hours listed in military time.\n",
    "pageviews2 = pageviews\n",
    "pageviews2['access_time'] = pageviews2['access_time'].astype(str)\n",
    "# pageviews2"
   ]
  },
  {
   "cell_type": "code",
   "execution_count": 12,
   "metadata": {},
   "outputs": [
    {
     "data": {
      "text/html": [
       "<div>\n",
       "<style scoped>\n",
       "    .dataframe tbody tr th:only-of-type {\n",
       "        vertical-align: middle;\n",
       "    }\n",
       "\n",
       "    .dataframe tbody tr th {\n",
       "        vertical-align: top;\n",
       "    }\n",
       "\n",
       "    .dataframe thead th {\n",
       "        text-align: right;\n",
       "    }\n",
       "</style>\n",
       "<table border=\"1\" class=\"dataframe\">\n",
       "  <thead>\n",
       "    <tr style=\"text-align: right;\">\n",
       "      <th></th>\n",
       "      <th>user_id</th>\n",
       "      <th>access_time</th>\n",
       "      <th>page_path</th>\n",
       "      <th>page_title</th>\n",
       "      <th>campaign</th>\n",
       "      <th>page_referrer</th>\n",
       "      <th>article_publication_date</th>\n",
       "      <th>article_format</th>\n",
       "      <th>access_date</th>\n",
       "    </tr>\n",
       "  </thead>\n",
       "  <tbody>\n",
       "    <tr>\n",
       "      <th>0</th>\n",
       "      <td>2929017</td>\n",
       "      <td>0:00</td>\n",
       "      <td>/recipes/spicy-coconut-black-bean-soup</td>\n",
       "      <td>Quick and Easy Spicy Coconut Black Bean Soup R...</td>\n",
       "      <td>NaN</td>\n",
       "      <td>https://www.purewow.com/food/black-bean-recipes</td>\n",
       "      <td>1/31/20</td>\n",
       "      <td>Recipe</td>\n",
       "      <td>9/1/20</td>\n",
       "    </tr>\n",
       "    <tr>\n",
       "      <th>1</th>\n",
       "      <td>1406718</td>\n",
       "      <td>0:00</td>\n",
       "      <td>/food/best-vanilla-ice-cream</td>\n",
       "      <td>9 Best Vanilla Ice-Cream Brands, Ranked - PureWow</td>\n",
       "      <td>email</td>\n",
       "      <td>NaN</td>\n",
       "      <td>8/22/20</td>\n",
       "      <td>List</td>\n",
       "      <td>9/1/20</td>\n",
       "    </tr>\n",
       "  </tbody>\n",
       "</table>\n",
       "</div>"
      ],
      "text/plain": [
       "   user_id access_time                               page_path  \\\n",
       "0  2929017        0:00  /recipes/spicy-coconut-black-bean-soup   \n",
       "1  1406718        0:00            /food/best-vanilla-ice-cream   \n",
       "\n",
       "                                          page_title campaign  \\\n",
       "0  Quick and Easy Spicy Coconut Black Bean Soup R...      NaN   \n",
       "1  9 Best Vanilla Ice-Cream Brands, Ranked - PureWow    email   \n",
       "\n",
       "                                     page_referrer article_publication_date  \\\n",
       "0  https://www.purewow.com/food/black-bean-recipes                  1/31/20   \n",
       "1                                              NaN                  8/22/20   \n",
       "\n",
       "  article_format access_date  \n",
       "0         Recipe      9/1/20  \n",
       "1           List      9/1/20  "
      ]
     },
     "execution_count": 12,
     "metadata": {},
     "output_type": "execute_result"
    }
   ],
   "source": [
    "pageviews2[['access_date','access_time']] = pageviews2['access_time'].str.split(' ',expand=True)\n",
    "pageviews2.head(2)"
   ]
  },
  {
   "cell_type": "code",
   "execution_count": 13,
   "metadata": {},
   "outputs": [
    {
     "name": "stdout",
     "output_type": "stream",
     "text": [
      "<class 'pandas.core.frame.DataFrame'>\n",
      "RangeIndex: 132662 entries, 0 to 132661\n",
      "Data columns (total 9 columns):\n",
      " #   Column                    Non-Null Count   Dtype \n",
      "---  ------                    --------------   ----- \n",
      " 0   user_id                   132662 non-null  int64 \n",
      " 1   access_time               132662 non-null  object\n",
      " 2   page_path                 132662 non-null  object\n",
      " 3   page_title                132656 non-null  object\n",
      " 4   campaign                  80395 non-null   object\n",
      " 5   page_referrer             62868 non-null   object\n",
      " 6   article_publication_date  132086 non-null  object\n",
      " 7   article_format            132086 non-null  object\n",
      " 8   access_date               132662 non-null  object\n",
      "dtypes: int64(1), object(8)\n",
      "memory usage: 9.1+ MB\n"
     ]
    }
   ],
   "source": [
    "pageviews2.info()"
   ]
  },
  {
   "cell_type": "code",
   "execution_count": 14,
   "metadata": {},
   "outputs": [
    {
     "data": {
      "text/html": [
       "<div>\n",
       "<style scoped>\n",
       "    .dataframe tbody tr th:only-of-type {\n",
       "        vertical-align: middle;\n",
       "    }\n",
       "\n",
       "    .dataframe tbody tr th {\n",
       "        vertical-align: top;\n",
       "    }\n",
       "\n",
       "    .dataframe thead th {\n",
       "        text-align: right;\n",
       "    }\n",
       "</style>\n",
       "<table border=\"1\" class=\"dataframe\">\n",
       "  <thead>\n",
       "    <tr style=\"text-align: right;\">\n",
       "      <th></th>\n",
       "      <th>user_id</th>\n",
       "      <th>access_time</th>\n",
       "      <th>page_path</th>\n",
       "      <th>page_title</th>\n",
       "      <th>campaign</th>\n",
       "      <th>page_referrer</th>\n",
       "      <th>article_publication_date</th>\n",
       "      <th>article_format</th>\n",
       "      <th>access_date</th>\n",
       "    </tr>\n",
       "  </thead>\n",
       "  <tbody>\n",
       "    <tr>\n",
       "      <th>0</th>\n",
       "      <td>2929017</td>\n",
       "      <td>0:00</td>\n",
       "      <td>/recipes/spicy-coconut-black-bean-soup</td>\n",
       "      <td>Quick and Easy Spicy Coconut Black Bean Soup R...</td>\n",
       "      <td>NaN</td>\n",
       "      <td>https://www.purewow.com/food/black-bean-recipes</td>\n",
       "      <td>1/31/20</td>\n",
       "      <td>Recipe</td>\n",
       "      <td>2020-09-01</td>\n",
       "    </tr>\n",
       "    <tr>\n",
       "      <th>1</th>\n",
       "      <td>1406718</td>\n",
       "      <td>0:00</td>\n",
       "      <td>/food/best-vanilla-ice-cream</td>\n",
       "      <td>9 Best Vanilla Ice-Cream Brands, Ranked - PureWow</td>\n",
       "      <td>email</td>\n",
       "      <td>NaN</td>\n",
       "      <td>8/22/20</td>\n",
       "      <td>List</td>\n",
       "      <td>2020-09-01</td>\n",
       "    </tr>\n",
       "  </tbody>\n",
       "</table>\n",
       "</div>"
      ],
      "text/plain": [
       "   user_id access_time                               page_path  \\\n",
       "0  2929017        0:00  /recipes/spicy-coconut-black-bean-soup   \n",
       "1  1406718        0:00            /food/best-vanilla-ice-cream   \n",
       "\n",
       "                                          page_title campaign  \\\n",
       "0  Quick and Easy Spicy Coconut Black Bean Soup R...      NaN   \n",
       "1  9 Best Vanilla Ice-Cream Brands, Ranked - PureWow    email   \n",
       "\n",
       "                                     page_referrer article_publication_date  \\\n",
       "0  https://www.purewow.com/food/black-bean-recipes                  1/31/20   \n",
       "1                                              NaN                  8/22/20   \n",
       "\n",
       "  article_format access_date  \n",
       "0         Recipe  2020-09-01  \n",
       "1           List  2020-09-01  "
      ]
     },
     "execution_count": 14,
     "metadata": {},
     "output_type": "execute_result"
    }
   ],
   "source": [
    "pageviews2['access_date'] = pd.to_datetime(pageviews2['access_date']).dt.date\n",
    "pageviews2.head(2)"
   ]
  },
  {
   "cell_type": "code",
   "execution_count": 15,
   "metadata": {},
   "outputs": [
    {
     "data": {
      "text/html": [
       "<div>\n",
       "<style scoped>\n",
       "    .dataframe tbody tr th:only-of-type {\n",
       "        vertical-align: middle;\n",
       "    }\n",
       "\n",
       "    .dataframe tbody tr th {\n",
       "        vertical-align: top;\n",
       "    }\n",
       "\n",
       "    .dataframe thead th {\n",
       "        text-align: right;\n",
       "    }\n",
       "</style>\n",
       "<table border=\"1\" class=\"dataframe\">\n",
       "  <thead>\n",
       "    <tr style=\"text-align: right;\">\n",
       "      <th></th>\n",
       "      <th>user_id</th>\n",
       "      <th>access_date</th>\n",
       "      <th>access_time</th>\n",
       "      <th>page_path</th>\n",
       "      <th>page_title</th>\n",
       "      <th>campaign</th>\n",
       "      <th>page_referrer</th>\n",
       "      <th>article_publication_date</th>\n",
       "      <th>article_format</th>\n",
       "    </tr>\n",
       "  </thead>\n",
       "  <tbody>\n",
       "    <tr>\n",
       "      <th>0</th>\n",
       "      <td>2929017</td>\n",
       "      <td>2020-09-01</td>\n",
       "      <td>0:00</td>\n",
       "      <td>/recipes/spicy-coconut-black-bean-soup</td>\n",
       "      <td>Quick and Easy Spicy Coconut Black Bean Soup R...</td>\n",
       "      <td>NaN</td>\n",
       "      <td>https://www.purewow.com/food/black-bean-recipes</td>\n",
       "      <td>1/31/20</td>\n",
       "      <td>Recipe</td>\n",
       "    </tr>\n",
       "  </tbody>\n",
       "</table>\n",
       "</div>"
      ],
      "text/plain": [
       "   user_id access_date access_time                               page_path  \\\n",
       "0  2929017  2020-09-01        0:00  /recipes/spicy-coconut-black-bean-soup   \n",
       "\n",
       "                                          page_title campaign  \\\n",
       "0  Quick and Easy Spicy Coconut Black Bean Soup R...      NaN   \n",
       "\n",
       "                                     page_referrer article_publication_date  \\\n",
       "0  https://www.purewow.com/food/black-bean-recipes                  1/31/20   \n",
       "\n",
       "  article_format  \n",
       "0         Recipe  "
      ]
     },
     "execution_count": 15,
     "metadata": {},
     "output_type": "execute_result"
    }
   ],
   "source": [
    "pageviews2 = pageviews2[['user_id', 'access_date', 'access_time', 'page_path', 'page_title', \n",
    "                         'campaign', 'page_referrer', 'article_publication_date', 'article_format']]\n",
    "pageviews2.head(1)"
   ]
  },
  {
   "cell_type": "code",
   "execution_count": 16,
   "metadata": {},
   "outputs": [
    {
     "data": {
      "text/plain": [
       "(132662, 9)"
      ]
     },
     "execution_count": 16,
     "metadata": {},
     "output_type": "execute_result"
    }
   ],
   "source": [
    "pageviews2.shape"
   ]
  },
  {
   "cell_type": "code",
   "execution_count": 17,
   "metadata": {},
   "outputs": [
    {
     "data": {
      "text/html": [
       "<div>\n",
       "<style scoped>\n",
       "    .dataframe tbody tr th:only-of-type {\n",
       "        vertical-align: middle;\n",
       "    }\n",
       "\n",
       "    .dataframe tbody tr th {\n",
       "        vertical-align: top;\n",
       "    }\n",
       "\n",
       "    .dataframe thead th {\n",
       "        text-align: right;\n",
       "    }\n",
       "</style>\n",
       "<table border=\"1\" class=\"dataframe\">\n",
       "  <thead>\n",
       "    <tr style=\"text-align: right;\">\n",
       "      <th></th>\n",
       "      <th>access_date</th>\n",
       "      <th>user_id</th>\n",
       "    </tr>\n",
       "  </thead>\n",
       "  <tbody>\n",
       "    <tr>\n",
       "      <th>0</th>\n",
       "      <td>2020-09-01</td>\n",
       "      <td>21752</td>\n",
       "    </tr>\n",
       "    <tr>\n",
       "      <th>1</th>\n",
       "      <td>2020-09-02</td>\n",
       "      <td>25069</td>\n",
       "    </tr>\n",
       "    <tr>\n",
       "      <th>2</th>\n",
       "      <td>2020-09-03</td>\n",
       "      <td>24604</td>\n",
       "    </tr>\n",
       "    <tr>\n",
       "      <th>3</th>\n",
       "      <td>2020-09-04</td>\n",
       "      <td>20340</td>\n",
       "    </tr>\n",
       "    <tr>\n",
       "      <th>4</th>\n",
       "      <td>2020-09-05</td>\n",
       "      <td>7862</td>\n",
       "    </tr>\n",
       "    <tr>\n",
       "      <th>5</th>\n",
       "      <td>2020-09-06</td>\n",
       "      <td>8247</td>\n",
       "    </tr>\n",
       "    <tr>\n",
       "      <th>6</th>\n",
       "      <td>2020-09-07</td>\n",
       "      <td>24787</td>\n",
       "    </tr>\n",
       "    <tr>\n",
       "      <th>7</th>\n",
       "      <td>2020-09-08</td>\n",
       "      <td>1</td>\n",
       "    </tr>\n",
       "  </tbody>\n",
       "</table>\n",
       "</div>"
      ],
      "text/plain": [
       "  access_date  user_id\n",
       "0  2020-09-01    21752\n",
       "1  2020-09-02    25069\n",
       "2  2020-09-03    24604\n",
       "3  2020-09-04    20340\n",
       "4  2020-09-05     7862\n",
       "5  2020-09-06     8247\n",
       "6  2020-09-07    24787\n",
       "7  2020-09-08        1"
      ]
     },
     "execution_count": 17,
     "metadata": {},
     "output_type": "execute_result"
    }
   ],
   "source": [
    "daily_visit = pageviews2.groupby(['access_date'])['user_id'].count().reset_index()\n",
    "daily_visit"
   ]
  },
  {
   "cell_type": "code",
   "execution_count": 18,
   "metadata": {},
   "outputs": [
    {
     "data": {
      "text/html": [
       "<div>\n",
       "<style scoped>\n",
       "    .dataframe tbody tr th:only-of-type {\n",
       "        vertical-align: middle;\n",
       "    }\n",
       "\n",
       "    .dataframe tbody tr th {\n",
       "        vertical-align: top;\n",
       "    }\n",
       "\n",
       "    .dataframe thead th {\n",
       "        text-align: right;\n",
       "    }\n",
       "</style>\n",
       "<table border=\"1\" class=\"dataframe\">\n",
       "  <thead>\n",
       "    <tr style=\"text-align: right;\">\n",
       "      <th></th>\n",
       "      <th>access_date</th>\n",
       "      <th>user_id</th>\n",
       "    </tr>\n",
       "  </thead>\n",
       "  <tbody>\n",
       "    <tr>\n",
       "      <th>0</th>\n",
       "      <td>2020-09-01</td>\n",
       "      <td>21752</td>\n",
       "    </tr>\n",
       "    <tr>\n",
       "      <th>1</th>\n",
       "      <td>2020-09-02</td>\n",
       "      <td>25069</td>\n",
       "    </tr>\n",
       "    <tr>\n",
       "      <th>2</th>\n",
       "      <td>2020-09-03</td>\n",
       "      <td>24604</td>\n",
       "    </tr>\n",
       "    <tr>\n",
       "      <th>3</th>\n",
       "      <td>2020-09-04</td>\n",
       "      <td>20340</td>\n",
       "    </tr>\n",
       "    <tr>\n",
       "      <th>4</th>\n",
       "      <td>2020-09-05</td>\n",
       "      <td>7862</td>\n",
       "    </tr>\n",
       "    <tr>\n",
       "      <th>5</th>\n",
       "      <td>2020-09-06</td>\n",
       "      <td>8247</td>\n",
       "    </tr>\n",
       "    <tr>\n",
       "      <th>6</th>\n",
       "      <td>2020-09-07</td>\n",
       "      <td>24787</td>\n",
       "    </tr>\n",
       "  </tbody>\n",
       "</table>\n",
       "</div>"
      ],
      "text/plain": [
       "  access_date  user_id\n",
       "0  2020-09-01    21752\n",
       "1  2020-09-02    25069\n",
       "2  2020-09-03    24604\n",
       "3  2020-09-04    20340\n",
       "4  2020-09-05     7862\n",
       "5  2020-09-06     8247\n",
       "6  2020-09-07    24787"
      ]
     },
     "execution_count": 18,
     "metadata": {},
     "output_type": "execute_result"
    }
   ],
   "source": [
    "# Dropping 9/8/2020 from result set as it skews data. Must have been date of data extraction.\n",
    "\n",
    "daily_visit = daily_visit.drop(daily_visit.index[7])\n",
    "daily_visit"
   ]
  },
  {
   "cell_type": "code",
   "execution_count": 19,
   "metadata": {},
   "outputs": [
    {
     "data": {
      "text/plain": [
       "18951.571428571428"
      ]
     },
     "execution_count": 19,
     "metadata": {},
     "output_type": "execute_result"
    }
   ],
   "source": [
    "dv_mean = daily_visit['user_id'].mean()\n",
    "dv_mean"
   ]
  },
  {
   "cell_type": "code",
   "execution_count": 20,
   "metadata": {},
   "outputs": [
    {
     "data": {
      "text/plain": [
       "Text(0.5, 1.0, 'Daily Visits 9/1/20-9/8/20')"
      ]
     },
     "execution_count": 20,
     "metadata": {},
     "output_type": "execute_result"
    },
    {
     "data": {
      "image/png": "[encoded data removed]",
      "text/plain": [
       "<Figure size 1152x360 with 1 Axes>"
      ]
     },
     "metadata": {},
     "output_type": "display_data"
    }
   ],
   "source": [
    "# Line chart reflecting visits throughout the week\n",
    "sns.set(rc={'figure.figsize': (16,5)})\n",
    "ax = sns.lineplot(x = 'access_date', y = 'user_id', data = daily_visit)\n",
    "plt.xlabel('Date', fontweight='bold')\n",
    "plt.ylabel('Total Visits', fontweight='bold')\n",
    "plt.title('Daily Visits 9/1/20-9/8/20', fontweight='bold')"
   ]
  },
  {
   "cell_type": "code",
   "execution_count": 21,
   "metadata": {},
   "outputs": [
    {
     "data": {
      "text/plain": [
       "Text(0.5, 1.0, 'Daily Visits 9/1/20-9/8/20')"
      ]
     },
     "execution_count": 21,
     "metadata": {},
     "output_type": "execute_result"
    },
    {
     "data": {
      "image/png": "[encoded data removed]",
      "text/plain": [
       "<Figure size 1152x360 with 1 Axes>"
      ]
     },
     "metadata": {},
     "output_type": "display_data"
    }
   ],
   "source": [
    "sns.set_style(\"darkgrid\")\n",
    "sns.set_context(\"talk\")\n",
    "sns.set(rc={'figure.figsize': (16,5)})\n",
    "\n",
    "ax = sns.barplot(x = 'access_date', y = 'user_id', data = daily_visit, ci=False)\n",
    "plt.xticks(rotation=70)\n",
    "plt.xlabel('Date', fontweight='bold')\n",
    "plt.ylabel('Total Visits', fontweight='bold')\n",
    "plt.title('Daily Visits 9/1/20-9/8/20', fontweight='bold')"
   ]
  },
  {
   "cell_type": "code",
   "execution_count": 22,
   "metadata": {},
   "outputs": [
    {
     "data": {
      "text/plain": [
       "Text(0.5, 1.0, 'Daily Visits 9/1/20-9/8/20')"
      ]
     },
     "execution_count": 22,
     "metadata": {},
     "output_type": "execute_result"
    },
    {
     "data": {
      "image/png": "[encoded data removed]",
      "text/plain": [
       "<Figure size 1200x600 with 2 Axes>"
      ]
     },
     "metadata": {},
     "output_type": "display_data"
    }
   ],
   "source": [
    "matplotlib.rc_file_defaults()\n",
    "ax1 = sns.set_style(style=None, rc=None )\n",
    "\n",
    "fig, ax1 = plt.subplots(figsize=(12,6))\n",
    "\n",
    "sns.lineplot(data = daily_visit['user_id'], marker='o', sort = False, ax=ax1)\n",
    "ax2 = ax1.twinx()\n",
    "\n",
    "sns.barplot(data = daily_visit, x='access_date', y='user_id', alpha=0.5, ax=ax2)\n",
    "plt.xticks(rotation=70)\n",
    "plt.xlabel('Date', fontweight='bold')\n",
    "plt.ylabel('Total Visits', fontweight='bold')\n",
    "plt.title('Daily Visits 9/1/20-9/8/20', fontweight='bold')\n",
    "\n",
    "# plt.savefig('GMG_DailyVisits.png')"
   ]
  },
  {
   "cell_type": "markdown",
   "metadata": {},
   "source": [
    "Users are visiting 132,662 times a week, or 18,952 times a day, excluding the final date (9/1/20) with a single view (as the outlier drastically alters the average). Thursday (9/2), Friday (9/3), and Tuesday (9/7) were the most viewed days of the week, accounting for 74,460 (or 56%) of total views. "
   ]
  },
  {
   "cell_type": "markdown",
   "metadata": {},
   "source": [
    "Per our Tableau visualization, the hours of highest traffic during the week lie between noon and 3 PM (common lunch hours), and 4 PM to 6 PM before steadily declining through the evening. Conversely, the lowest amount of traffic on any given day are between the hours of 4 AM and 9 AM. These hours would be the best in which to send out emails. We can definitely work to increase the early morning views, especially for those who browse during their commute. Additionally, it's worth noting that Sunday and Monday receive the least amount of traffic. Generally, weekends adhere less to these trends. People have much more time and options in terms of the media they choose to consume. We can become more relevant here (stay-at-home brunch, lazy sunday recipes, best recipe for starting your week off right, etc.)."
   ]
  },
  {
   "cell_type": "markdown",
   "metadata": {},
   "source": [
    "# Are people finding our content through other channels?\n",
    "\n",
    "Apart from PureWow as a page_referrer, there are plenty of views being generated from referrers like Google/Gmail, and Pinterest (seeing as quite a few recipes originated there!). Our email campaign was by far the most successful. It accounts for 79,282, or nearly 60% of traffic for the week."
   ]
  },
  {
   "cell_type": "code",
   "execution_count": 23,
   "metadata": {},
   "outputs": [
    {
     "data": {
      "text/html": [
       "<div>\n",
       "<style scoped>\n",
       "    .dataframe tbody tr th:only-of-type {\n",
       "        vertical-align: middle;\n",
       "    }\n",
       "\n",
       "    .dataframe tbody tr th {\n",
       "        vertical-align: top;\n",
       "    }\n",
       "\n",
       "    .dataframe thead th {\n",
       "        text-align: right;\n",
       "    }\n",
       "</style>\n",
       "<table border=\"1\" class=\"dataframe\">\n",
       "  <thead>\n",
       "    <tr style=\"text-align: right;\">\n",
       "      <th></th>\n",
       "      <th>campaign</th>\n",
       "      <th>user_id</th>\n",
       "    </tr>\n",
       "  </thead>\n",
       "  <tbody>\n",
       "    <tr>\n",
       "      <th>5</th>\n",
       "      <td>email</td>\n",
       "      <td>79282</td>\n",
       "    </tr>\n",
       "    <tr>\n",
       "      <th>9</th>\n",
       "      <td>syndication</td>\n",
       "      <td>485</td>\n",
       "    </tr>\n",
       "    <tr>\n",
       "      <th>8</th>\n",
       "      <td>social</td>\n",
       "      <td>407</td>\n",
       "    </tr>\n",
       "    <tr>\n",
       "      <th>4</th>\n",
       "      <td>cpc</td>\n",
       "      <td>116</td>\n",
       "    </tr>\n",
       "    <tr>\n",
       "      <th>0</th>\n",
       "      <td>10today.ad3li.20200903.421.1</td>\n",
       "      <td>73</td>\n",
       "    </tr>\n",
       "    <tr>\n",
       "      <th>7</th>\n",
       "      <td>sms</td>\n",
       "      <td>14</td>\n",
       "    </tr>\n",
       "    <tr>\n",
       "      <th>2</th>\n",
       "      <td>10today.ad3li.20200903.smartflab.421.2</td>\n",
       "      <td>7</td>\n",
       "    </tr>\n",
       "    <tr>\n",
       "      <th>1</th>\n",
       "      <td>10today.ad3li.20200903.smartflab.421.1</td>\n",
       "      <td>4</td>\n",
       "    </tr>\n",
       "    <tr>\n",
       "      <th>3</th>\n",
       "      <td>ASKDRNANDI</td>\n",
       "      <td>3</td>\n",
       "    </tr>\n",
       "    <tr>\n",
       "      <th>6</th>\n",
       "      <td>foodandwine</td>\n",
       "      <td>3</td>\n",
       "    </tr>\n",
       "    <tr>\n",
       "      <th>10</th>\n",
       "      <td>yummly</td>\n",
       "      <td>1</td>\n",
       "    </tr>\n",
       "  </tbody>\n",
       "</table>\n",
       "</div>"
      ],
      "text/plain": [
       "                                  campaign  user_id\n",
       "5                                    email    79282\n",
       "9                              syndication      485\n",
       "8                                   social      407\n",
       "4                                      cpc      116\n",
       "0             10today.ad3li.20200903.421.1       73\n",
       "7                                      sms       14\n",
       "2   10today.ad3li.20200903.smartflab.421.2        7\n",
       "1   10today.ad3li.20200903.smartflab.421.1        4\n",
       "3                               ASKDRNANDI        3\n",
       "6                              foodandwine        3\n",
       "10                                  yummly        1"
      ]
     },
     "execution_count": 23,
     "metadata": {},
     "output_type": "execute_result"
    }
   ],
   "source": [
    "vs_bycampaign = pageviews2.groupby(['campaign'])['user_id'].count().reset_index()\n",
    "vs_bycampaign.sort_values('user_id', ascending=False)\n",
    "\n",
    "# This didn't count the NULLS. Refer to SQL for accurate count."
   ]
  },
  {
   "cell_type": "markdown",
   "metadata": {},
   "source": [
    "39% of all views for the week were generated where no campaign was listed, with the page_referrer primarily being the PureWow site. This could mean that it was \"organic\" traffic (users landed on the webpage on their own). So, it's good that one of the highest segments of views are devoted readers!"
   ]
  },
  {
   "cell_type": "markdown",
   "metadata": {},
   "source": [
    "# Which kind of content format is most approachable to our viewers?"
   ]
  },
  {
   "cell_type": "markdown",
   "metadata": {},
   "source": [
    "As far as food and recipes are concerned, users prefer viewing Recipes and Lists the most, as it's straight to the point in regards to what ingredients are needed, and what they need to do to prepare the meal. Other formats are more involved, requiring more clicks (ie Slideshows), or more active attention (ie Video and Articles)."
   ]
  },
  {
   "cell_type": "markdown",
   "metadata": {},
   "source": [
    "# Which common themes about the content get the most traction?"
   ]
  },
  {
   "cell_type": "markdown",
   "metadata": {},
   "source": [
    "The top trending pages all feel new and *relevant*. With Labor Day being 9/7/2020, it's no wonder the highest webpage viewed (by a large margin) was \"45 Easy Labor Day Recipes to Celebrate the End of Summer?\" We can see that other articles that had traction at this time mentioned Summer (and related foods like Ice Cream), Labor Day, Fall, and September-specific updates (ie What's New at Trader Joe's: September 2020)."
   ]
  },
  {
   "cell_type": "markdown",
   "metadata": {},
   "source": [
    "There's definitely room to grow when it comes to Social campaigns."
   ]
  },
  {
   "cell_type": "markdown",
   "metadata": {},
   "source": [
    "# Conclusions"
   ]
  },
  {
   "cell_type": "markdown",
   "metadata": {},
   "source": [
    "Recommendations:\n",
    "\n",
    "The week in data revealed that seasonality and new articles are key to feeling relevant for our users. We saw this impact through the amount of Summer, Fall, and Labor Day content receiving the top spots for viewership. The highest trending content was also published during this year's Summer season. Further, as far as food and recipe content is concerned, Recipe and List formats account for 83% of all views for this week (41.8% and 41.6%, respectively). This means that users want to get right to the point in knowing what they need to prepare and ultimately cook/bake their food. The less attention they have to pay (ie clicking with Slideshows and actively watching Video), the more engaged they will be.\n",
    "\n",
    "Early morning hours (between 4AM-9AM) aren't the best times to market food and recipe content, but gain much more traction during lunch (noon - 3 PM) and post-work/dinner hours (4PM - 6PM). Sunday and Monday were the lowest points, but could be capitalized on with content like Sunday brunch recipes and simple meal prep recipes for the week.\n",
    "\n",
    "Email was the most impactful campaign for the week, followed by Organic. Social should be generating more, but it's a positive sign that our efforts via Google/Gmail and Pinterest are working."
   ]
  },
  {
   "cell_type": "markdown",
   "metadata": {},
   "source": [
    "Suggestion/Next Steps:\n",
    "\n",
    "In order to further segment and understand this audience, we should have a lot more demographic information. Age, location, desktop or mobile, session duration, search query, which browser they used to access the site, etc. Each of these can be used to help us better understand user tastes on an individual basis, so we can most effectively market the *right* content to them.\n",
    "\n",
    "I'd also love to analyze social data generated from Twitter, as Social could potentially make a higher impact on usage and engagement of the product. Natural language processing and sentiment analysis may be long-term goals!"
   ]
  },
  {
   "cell_type": "code",
   "execution_count": null,
   "metadata": {},
   "outputs": [],
   "source": []
  }
 ],
 "metadata": {
  "kernelspec": {
   "display_name": "Python 3",
   "language": "python",
   "name": "python3"
  },
  "language_info": {
   "codemirror_mode": {
    "name": "ipython",
    "version": 3
   },
   "file_extension": ".py",
   "mimetype": "text/x-python",
   "name": "python",
   "nbconvert_exporter": "python",
   "pygments_lexer": "ipython3",
   "version": "3.7.7"
  }
 },
 "nbformat": 4,
 "nbformat_minor": 4
}
